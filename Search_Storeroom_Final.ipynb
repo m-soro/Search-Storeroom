{
  "nbformat": 4,
  "nbformat_minor": 0,
  "metadata": {
    "colab": {
      "name": "Search Storeroom Final.ipynb",
      "provenance": [],
      "collapsed_sections": [],
      "authorship_tag": "ABX9TyM/fP53pRDWnvyl1Zi5lKjy",
      "include_colab_link": true
    },
    "kernelspec": {
      "name": "python3",
      "display_name": "Python 3"
    },
    "language_info": {
      "name": "python"
    }
  },
  "cells": [
    {
      "cell_type": "markdown",
      "metadata": {
        "id": "view-in-github",
        "colab_type": "text"
      },
      "source": [
        "<a href=\"https://colab.research.google.com/github/m-soro/Search-Storeroom/blob/main/Search_Storeroom_Final.ipynb\" target=\"_parent\"><img src=\"https://colab.research.google.com/assets/colab-badge.svg\" alt=\"Open In Colab\"/></a>"
      ]
    },
    {
      "cell_type": "code",
      "metadata": {
        "id": "vFGE6Y9cp3hO",
        "cellView": "form"
      },
      "source": [
        "#@markdown ### Search Storeroom\n",
        "try:\n",
        "    import pandas as pd\n",
        "    import re\n",
        "    import xlsxwriter\n",
        "    from tika import parser\n",
        "    from google.colab import files\n",
        "    import datetime\n",
        "except:\n",
        "    !pip install tika\n",
        "    !pip install xlsxwriter\n",
        "\n",
        "fn = '99 Food Storeroom.pdf' \n",
        "\n",
        "raw = parser.from_file(fn)\n",
        "content = raw['content'].replace('\\n','').split('_________')[2:]\n",
        "\n",
        "# item_num = re.findall(r'\\d+', two)[-1]\n",
        "# item_num\n",
        "\n",
        "# desc = re.findall(r'\\D+', two)[2][:-2]\n",
        "# desc\n",
        "\n",
        "# price = re.findall(r'\\$\\d+(?:\\.\\d+)?', two)[0]\n",
        "# price\n",
        "\n",
        "# case_break = re.findall(r'\\(([^\\)]+)\\)',two)[0]\n",
        "# case_break\n",
        "\n",
        "# unit = re.findall(r'\\D+', str(two).replace(to_remove,'').replace('Location',''))[-1])\n",
        "# unit\n",
        "\n",
        "item_num = []\n",
        "for line in content:\n",
        "    remove = re.findall(r'\\(([^\\)]+)\\)',line)[0]\n",
        "    line = line.replace(remove,'')\n",
        "    item_num.append(re.findall(r'\\d+', line)[-1])\n",
        "\n",
        "case_breaks=[]\n",
        "for line in content:\n",
        "    case_breaks.append(re.findall(r'\\(([^\\)]+)\\)',line)[0])\n",
        "\n",
        "price = []\n",
        "for line in content:\n",
        "    price.append(re.findall(r'\\$\\d+(?:\\.\\d+)?', line)[0])\n",
        "\n",
        "desc = []\n",
        "for line in content:\n",
        "    desc.append(re.findall(r'\\D+', line)[2][:-2])\n",
        "\n",
        "unit = []\n",
        "to_remove = 'OutletUnitCountCostDescriptionInventoryInv.ProductProduct'\n",
        "for line in content:\n",
        "    unit.append((re.findall(r'\\D+', str(line).replace(to_remove,'').replace('Location',''))[-1]))\n",
        "\n",
        "df = pd.DataFrame(item_num)\n",
        "df['Desc'] = desc\n",
        "df['Unit'] = unit\n",
        "df['Case_Break'] = case_breaks\n",
        "df['Price'] = price   \n",
        "\n",
        "df.columns = ['Item_Num', 'Desc', 'Unit','Case_Break','Price']"
      ],
      "execution_count": null,
      "outputs": []
    },
    {
      "cell_type": "code",
      "metadata": {
        "id": "Gh8P_NIu7TEM",
        "cellView": "form"
      },
      "source": [
        "#@title Search by Item Description { run: \"auto\", vertical-output: true }\n",
        "input = \"bread\" #@param {type:\"string\"}\n",
        "r = df[df['Desc'].str.contains((input).title())]\n",
        "\n",
        "import ipywidgets as widgets\n",
        "\n",
        "data = r\n",
        "\n",
        "checkboxes = [widgets.Checkbox(layout=widgets.Layout(width='150%'),value=False, description=str(label[1][0] + '-'+ str(label).replace('Desc          ','').split('\\n')[1])) for label in r.iterrows()]\n",
        "\n",
        "output = widgets.VBox(children=checkboxes)\n",
        "\n",
        "display(output)\n",
        "\n",
        "\n"
      ],
      "execution_count": null,
      "outputs": []
    },
    {
      "cell_type": "code",
      "metadata": {
        "id": "LDzmPqFeM8Xs",
        "cellView": "form"
      },
      "source": [
        "#@title Clear the Cart\n",
        "selected_data = []\n"
      ],
      "execution_count": null,
      "outputs": []
    },
    {
      "cell_type": "code",
      "metadata": {
        "id": "0bKKsPLT32_0",
        "cellView": "form"
      },
      "source": [
        "#@title Add to Cart { run: \"auto\" }\n",
        "for i in range(0, len(checkboxes)):\n",
        "    if checkboxes[i].value == True:\n",
        "        # selected_data = selected_data + [checkboxes[i].description]\n",
        "        selected_data.append(checkboxes[i].description.split('-')[0])"
      ],
      "execution_count": null,
      "outputs": []
    },
    {
      "cell_type": "code",
      "metadata": {
        "colab": {
          "base_uri": "https://localhost:8080/",
          "height": 17
        },
        "id": "tatrkjTJYmTc",
        "cellView": "form",
        "outputId": "3cb74a5b-e104-48ec-eee1-f7174545c5b5"
      },
      "source": [
        "#@title Build/Save/Download the Template\n",
        "template_name = \"hungry jeff\" #@param {type:\"string\"}\n",
        "template = pd.DataFrame(selected_data)\n",
        "\n",
        "desc = []\n",
        "for n in template[0]:\n",
        "    desc.append(df.query('Item_Num == @n').Desc.values[0])\n",
        "\n",
        "template['Desc'] = desc\n",
        "\n",
        "\n",
        "unit = []\n",
        "for n in template[0]:\n",
        "    unit.append(df.query('Item_Num == @n').Unit.values[0])\n",
        "\n",
        "template['Unit'] = unit\n",
        "\n",
        "# Doesn't need case breaks\n",
        "# case_break = []\n",
        "# for n in template[0]:\n",
        "#     case_break.append(df.query('Item_Num == @n').Case_Break.values[0])\n",
        "\n",
        "# template['Case_Break'] = case_break\n",
        "\n",
        "template['Order Qty'] = ' '\n",
        "\n",
        "template.columns = ['Item_Num', 'Description','Unit', 'Order Qty'] \n",
        "\n",
        "sheet_name = template_name\n",
        "d = datetime.datetime.now().strftime(\"%m.%d.%y\")\n",
        "writer = pd.ExcelWriter(sheet_name + d +'.xlsx',engine='xlsxwriter')\n",
        "template.to_excel(writer,sheet_name=sheet_name,index=False)\n",
        "worksheet = writer.sheets[sheet_name]\n",
        "worksheet.set_column('B:B', template['Description'].str.len().max())\n",
        "writer.save()\n",
        "files.download(sheet_name + d +'.xlsx')"
      ],
      "execution_count": null,
      "outputs": [
        {
          "output_type": "display_data",
          "data": {
            "application/javascript": [
              "\n",
              "    async function download(id, filename, size) {\n",
              "      if (!google.colab.kernel.accessAllowed) {\n",
              "        return;\n",
              "      }\n",
              "      const div = document.createElement('div');\n",
              "      const label = document.createElement('label');\n",
              "      label.textContent = `Downloading \"${filename}\": `;\n",
              "      div.appendChild(label);\n",
              "      const progress = document.createElement('progress');\n",
              "      progress.max = size;\n",
              "      div.appendChild(progress);\n",
              "      document.body.appendChild(div);\n",
              "\n",
              "      const buffers = [];\n",
              "      let downloaded = 0;\n",
              "\n",
              "      const channel = await google.colab.kernel.comms.open(id);\n",
              "      // Send a message to notify the kernel that we're ready.\n",
              "      channel.send({})\n",
              "\n",
              "      for await (const message of channel.messages) {\n",
              "        // Send a message to notify the kernel that we're ready.\n",
              "        channel.send({})\n",
              "        if (message.buffers) {\n",
              "          for (const buffer of message.buffers) {\n",
              "            buffers.push(buffer);\n",
              "            downloaded += buffer.byteLength;\n",
              "            progress.value = downloaded;\n",
              "          }\n",
              "        }\n",
              "      }\n",
              "      const blob = new Blob(buffers, {type: 'application/binary'});\n",
              "      const a = document.createElement('a');\n",
              "      a.href = window.URL.createObjectURL(blob);\n",
              "      a.download = filename;\n",
              "      div.appendChild(a);\n",
              "      a.click();\n",
              "      div.remove();\n",
              "    }\n",
              "  "
            ],
            "text/plain": [
              "<IPython.core.display.Javascript object>"
            ]
          },
          "metadata": {}
        },
        {
          "output_type": "display_data",
          "data": {
            "application/javascript": [
              "download(\"download_559c21af-a332-4fb1-949a-d9abacda6935\", \"hungry jeff08.22.21.xlsx\", 5619)"
            ],
            "text/plain": [
              "<IPython.core.display.Javascript object>"
            ]
          },
          "metadata": {}
        }
      ]
    },
    {
      "cell_type": "code",
      "metadata": {
        "id": "BuMgiBbY1TPE",
        "cellView": "form"
      },
      "source": [
        "#@title Search by Item Number { run: \"auto\", vertical-output: true }\n",
        "input = \"\" #@param {type:\"string\"}\n",
        "df[df['Item_Num'].str.contains(input)] "
      ],
      "execution_count": null,
      "outputs": []
    }
  ]
}